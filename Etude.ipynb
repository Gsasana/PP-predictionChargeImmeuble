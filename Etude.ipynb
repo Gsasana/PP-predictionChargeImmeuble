{
 "cells": [
  {
   "cell_type": "markdown",
   "metadata": {},
   "source": [
    "# Preprocessing"
   ]
  },
  {
   "cell_type": "code",
   "execution_count": 3,
   "metadata": {},
   "outputs": [
    {
     "name": "stdout",
     "output_type": "stream",
     "text": [
      "<class 'pandas.core.frame.DataFrame'>\n",
      "RangeIndex: 768 entries, 0 to 767\n",
      "Data columns (total 10 columns):\n",
      " #   Column  Non-Null Count  Dtype  \n",
      "---  ------  --------------  -----  \n",
      " 0   X1      768 non-null    float64\n",
      " 1   X2      768 non-null    float64\n",
      " 2   X3      768 non-null    float64\n",
      " 3   X4      768 non-null    float64\n",
      " 4   X5      768 non-null    float64\n",
      " 5   X6      768 non-null    int64  \n",
      " 6   X7      768 non-null    float64\n",
      " 7   X8      768 non-null    int64  \n",
      " 8   Y1      768 non-null    float64\n",
      " 9   Y2      768 non-null    float64\n",
      "dtypes: float64(8), int64(2)\n",
      "memory usage: 60.1 KB\n"
     ]
    }
   ],
   "source": [
    "import pandas as pd\n",
    "import numpy as np  \n",
    "from sklearn import model_selection\n",
    "from sklearn import ensemble\n",
    "from sklearn import svm\n",
    "from sklearn import neighbors\n",
    "from sklearn.model_selection import train_test_split\n",
    "from sklearn import preprocessing\n",
    "from sklearn.ensemble import VotingClassifier\n",
    "\n",
    "df = pd.read_csv('ENB2012_data.csv', sep=\";\")\n",
    "\n",
    "df.head()\n",
    "df.info()\n",
    "\n",
    "for col in df.columns:\n",
    "    if df[col].dtype == object:\n",
    "        try:\n",
    "            df[col] = df[col].astype(np.float64)\n",
    "        except ValueError:\n",
    "            pass\n",
    "\n"
   ]
  },
  {
   "cell_type": "code",
   "execution_count": 4,
   "metadata": {},
   "outputs": [
    {
     "name": "stdout",
     "output_type": "stream",
     "text": [
      "On constate que les variables Y1, Y2 et X5 sont importante pour prédire nos deux cibles\n"
     ]
    }
   ],
   "source": [
    "# Analyse corrélation entre les variable de df (corrélation de Pearson)\n",
    "pearson = df.corr()\n",
    "pearson\n",
    "\n",
    "# Variable explicative les plus corrèlées aux variables cibles\n",
    "corrTarget = pearson[['Y1', 'Y2']].abs().sort_values(by=['Y1', 'Y2'], ascending=False)\n",
    "corrTarget\n",
    "\n",
    "print('On constate que les variables Y1, Y2 et X5 sont importante pour prédire nos deux cibles')"
   ]
  },
  {
   "cell_type": "code",
   "execution_count": 5,
   "metadata": {},
   "outputs": [],
   "source": [
    "# Nv col total charges chauffage et climatisation\n",
    "df['charges_sum'] = df['Y1']+ df['Y2']\n",
    "\n",
    "# Recherche quartiles\n",
    "quartile = df['charges_sum'].quantile([0.25, 0.5, 0.75])\n",
    "\n",
    "\n",
    "# Découpage\n",
    "charges_classes = pd.cut(df['charges_sum'], bins = [-float('inf'), quartile[0.25], quartile[0.5], quartile[0.75], float('inf')],\n",
    "                         labels=[0, 1, 2, 3])\n",
    "\n"
   ]
  },
  {
   "cell_type": "code",
   "execution_count": 6,
   "metadata": {},
   "outputs": [],
   "source": [
    "# Stockage données explicative\n",
    "df_X = df.drop(columns =['charges_sum'])\n",
    "\n",
    "# Séparation ensemble test\n",
    "X_train, X_test, y_train, y_test = train_test_split(df_X, charges_classes, test_size=0.2)\n",
    "\n",
    "# Centralisation et réduction des varaibles explicative\n",
    "scaler = preprocessing.StandardScaler().fit(X_train)\n",
    "\n",
    "X_train_scaled = scaler.transform(X_train)\n",
    "\n",
    "X_test_scaled = scaler.transform(X_test)"
   ]
  },
  {
   "cell_type": "markdown",
   "metadata": {},
   "source": [
    "# Sélection du modèle"
   ]
  },
  {
   "cell_type": "markdown",
   "metadata": {},
   "source": [
    "# K plus proches voisins"
   ]
  },
  {
   "cell_type": "code",
   "execution_count": 27,
   "metadata": {},
   "outputs": [
    {
     "name": "stdout",
     "output_type": "stream",
     "text": [
      "Meilleur param = 3\n"
     ]
    }
   ],
   "source": [
    "from sklearn.neighbors import KNeighborsClassifier\n",
    "from sklearn.model_selection import GridSearchCV\n",
    "\n",
    "# Hyperparamètre\n",
    "param = {'n_neighbors': range(2, 41)}\n",
    "\n",
    "# Classifieur KNN\n",
    "knn = KNeighborsClassifier()\n",
    "\n",
    "# Meilleirs hyperparamètre recherche\n",
    "grid_search = GridSearchCV(knn, param)\n",
    "grid_search.fit(X_train_scaled, y_train)\n",
    "\n",
    "BParams = grid_search.best_params_\n",
    "\n",
    "BParams\n",
    "\n",
    "print('Meilleur param = 3')"
   ]
  },
  {
   "cell_type": "code",
   "execution_count": 29,
   "metadata": {},
   "outputs": [
    {
     "data": {
      "text/html": [
       "<div>\n",
       "<style scoped>\n",
       "    .dataframe tbody tr th:only-of-type {\n",
       "        vertical-align: middle;\n",
       "    }\n",
       "\n",
       "    .dataframe tbody tr th {\n",
       "        vertical-align: top;\n",
       "    }\n",
       "\n",
       "    .dataframe thead th {\n",
       "        text-align: right;\n",
       "    }\n",
       "</style>\n",
       "<table border=\"1\" class=\"dataframe\">\n",
       "  <thead>\n",
       "    <tr style=\"text-align: right;\">\n",
       "      <th>Classes prédites</th>\n",
       "      <th>0</th>\n",
       "      <th>1</th>\n",
       "      <th>2</th>\n",
       "      <th>3</th>\n",
       "    </tr>\n",
       "    <tr>\n",
       "      <th>Classes réelles</th>\n",
       "      <th></th>\n",
       "      <th></th>\n",
       "      <th></th>\n",
       "      <th></th>\n",
       "    </tr>\n",
       "  </thead>\n",
       "  <tbody>\n",
       "    <tr>\n",
       "      <th>0</th>\n",
       "      <td>38</td>\n",
       "      <td>2</td>\n",
       "      <td>0</td>\n",
       "      <td>0</td>\n",
       "    </tr>\n",
       "    <tr>\n",
       "      <th>1</th>\n",
       "      <td>1</td>\n",
       "      <td>42</td>\n",
       "      <td>2</td>\n",
       "      <td>0</td>\n",
       "    </tr>\n",
       "    <tr>\n",
       "      <th>2</th>\n",
       "      <td>0</td>\n",
       "      <td>2</td>\n",
       "      <td>28</td>\n",
       "      <td>2</td>\n",
       "    </tr>\n",
       "    <tr>\n",
       "      <th>3</th>\n",
       "      <td>0</td>\n",
       "      <td>0</td>\n",
       "      <td>2</td>\n",
       "      <td>35</td>\n",
       "    </tr>\n",
       "  </tbody>\n",
       "</table>\n",
       "</div>"
      ],
      "text/plain": [
       "Classes prédites   0   1   2   3\n",
       "Classes réelles                 \n",
       "0                 38   2   0   0\n",
       "1                  1  42   2   0\n",
       "2                  0   2  28   2\n",
       "3                  0   0   2  35"
      ]
     },
     "execution_count": 29,
     "metadata": {},
     "output_type": "execute_result"
    }
   ],
   "source": [
    "# Application modèle\n",
    "\n",
    "knnB = KNeighborsClassifier(**BParams)\n",
    "knnB.fit(X_train_scaled, y_train)\n",
    "\n",
    "y_pred = knnB.predict(X_test_scaled)\n",
    "\n",
    "confusion = pd.crosstab(y_test, y_pred, rownames=['Classes réelles'], colnames=['Classes prédites'])\n",
    "confusion"
   ]
  },
  {
   "cell_type": "code",
   "execution_count": 31,
   "metadata": {},
   "outputs": [
    {
     "data": {
      "text/plain": [
       "0.9285714285714286"
      ]
     },
     "execution_count": 31,
     "metadata": {},
     "output_type": "execute_result"
    }
   ],
   "source": [
    "score = knnB.score(X_test_scaled, y_test)\n",
    "score"
   ]
  },
  {
   "cell_type": "markdown",
   "metadata": {},
   "source": [
    "# SVM"
   ]
  },
  {
   "cell_type": "code",
   "execution_count": 8,
   "metadata": {},
   "outputs": [
    {
     "name": "stdout",
     "output_type": "stream",
     "text": [
      "Meilleur param 'C': 10, 'kernel': 'linear' \n"
     ]
    }
   ],
   "source": [
    "from sklearn.svm import SVC \n",
    "from sklearn.model_selection import GridSearchCV\n",
    "# Hyperparamètre\n",
    "param = {'kernel': ['linear', 'sigmoid', 'rbf'], 'C': [0.1, 1, 10, 30]}\n",
    "\n",
    "# Classifieur SVM\n",
    "svm = SVC()\n",
    "\n",
    "#Meilleurs hyperpamètre recherche\n",
    "grid_search = GridSearchCV(svm, param)\n",
    "grid_search.fit(X_train_scaled, y_train)\n",
    "\n",
    "BParams = grid_search.best_params_\n",
    "\n",
    "BParams\n",
    "\n",
    "print(\"Meilleur param 'C': 10, 'kernel': 'linear' \")"
   ]
  },
  {
   "cell_type": "code",
   "execution_count": 35,
   "metadata": {},
   "outputs": [
    {
     "data": {
      "text/html": [
       "<div>\n",
       "<style scoped>\n",
       "    .dataframe tbody tr th:only-of-type {\n",
       "        vertical-align: middle;\n",
       "    }\n",
       "\n",
       "    .dataframe tbody tr th {\n",
       "        vertical-align: top;\n",
       "    }\n",
       "\n",
       "    .dataframe thead th {\n",
       "        text-align: right;\n",
       "    }\n",
       "</style>\n",
       "<table border=\"1\" class=\"dataframe\">\n",
       "  <thead>\n",
       "    <tr style=\"text-align: right;\">\n",
       "      <th>Classe prédite</th>\n",
       "      <th>0</th>\n",
       "      <th>1</th>\n",
       "      <th>2</th>\n",
       "      <th>3</th>\n",
       "    </tr>\n",
       "    <tr>\n",
       "      <th>Classe réalle</th>\n",
       "      <th></th>\n",
       "      <th></th>\n",
       "      <th></th>\n",
       "      <th></th>\n",
       "    </tr>\n",
       "  </thead>\n",
       "  <tbody>\n",
       "    <tr>\n",
       "      <th>0</th>\n",
       "      <td>38</td>\n",
       "      <td>2</td>\n",
       "      <td>0</td>\n",
       "      <td>0</td>\n",
       "    </tr>\n",
       "    <tr>\n",
       "      <th>1</th>\n",
       "      <td>0</td>\n",
       "      <td>45</td>\n",
       "      <td>0</td>\n",
       "      <td>0</td>\n",
       "    </tr>\n",
       "    <tr>\n",
       "      <th>2</th>\n",
       "      <td>0</td>\n",
       "      <td>1</td>\n",
       "      <td>31</td>\n",
       "      <td>0</td>\n",
       "    </tr>\n",
       "    <tr>\n",
       "      <th>3</th>\n",
       "      <td>0</td>\n",
       "      <td>0</td>\n",
       "      <td>0</td>\n",
       "      <td>37</td>\n",
       "    </tr>\n",
       "  </tbody>\n",
       "</table>\n",
       "</div>"
      ],
      "text/plain": [
       "Classe prédite   0   1   2   3\n",
       "Classe réalle                 \n",
       "0               38   2   0   0\n",
       "1                0  45   0   0\n",
       "2                0   1  31   0\n",
       "3                0   0   0  37"
      ]
     },
     "execution_count": 35,
     "metadata": {},
     "output_type": "execute_result"
    }
   ],
   "source": [
    "#Application du modèle\n",
    "svmB = SVC(**BParams)\n",
    "svmB.fit(X_train_scaled, y_train)\n",
    "y_pred = svmB.predict(X_test_scaled)\n",
    "\n",
    "confusion = pd.crosstab(y_test, y_pred, rownames=['Classe réalle'], colnames=['Classe prédite'])\n",
    "confusion"
   ]
  },
  {
   "cell_type": "code",
   "execution_count": 37,
   "metadata": {},
   "outputs": [
    {
     "data": {
      "text/plain": [
       "0.9805194805194806"
      ]
     },
     "execution_count": 37,
     "metadata": {},
     "output_type": "execute_result"
    }
   ],
   "source": [
    "score = svmB.score(X_test_scaled, y_test)\n",
    "score"
   ]
  },
  {
   "cell_type": "markdown",
   "metadata": {},
   "source": [
    "# Random Forest\n"
   ]
  },
  {
   "cell_type": "code",
   "execution_count": 12,
   "metadata": {},
   "outputs": [
    {
     "name": "stdout",
     "output_type": "stream",
     "text": [
      "Meilleur param : {'max_features': 'sqrt', 'min_samples_split': 10}\n"
     ]
    }
   ],
   "source": [
    "from sklearn.ensemble import RandomForestClassifier \n",
    "from sklearn.model_selection import GridSearchCV \n",
    "\n",
    "# Hyperparamètre\n",
    "param = {'max_features': [\"sqrt\", \"log2\", None], 'min_samples_split': range(2, 31, 2)}\n",
    "\n",
    "# Classifieur rf\n",
    "rf = RandomForestClassifier()\n",
    "\n",
    "#Meilleurs hyperpamètre recherche\n",
    "grid_search = GridSearchCV(rf, param)\n",
    "grid_search.fit(X_train_scaled, y_train)\n",
    "\n",
    "BParams = grid_search.best_params_\n",
    "\n",
    "BParams\n",
    "\n",
    "print(\"Meilleur param : {'max_features': 'sqrt', 'min_samples_split': 10}\") "
   ]
  },
  {
   "cell_type": "code",
   "execution_count": 14,
   "metadata": {},
   "outputs": [
    {
     "data": {
      "text/html": [
       "<div>\n",
       "<style scoped>\n",
       "    .dataframe tbody tr th:only-of-type {\n",
       "        vertical-align: middle;\n",
       "    }\n",
       "\n",
       "    .dataframe tbody tr th {\n",
       "        vertical-align: top;\n",
       "    }\n",
       "\n",
       "    .dataframe thead th {\n",
       "        text-align: right;\n",
       "    }\n",
       "</style>\n",
       "<table border=\"1\" class=\"dataframe\">\n",
       "  <thead>\n",
       "    <tr style=\"text-align: right;\">\n",
       "      <th>Classe prédite</th>\n",
       "      <th>0</th>\n",
       "      <th>1</th>\n",
       "      <th>2</th>\n",
       "      <th>3</th>\n",
       "    </tr>\n",
       "    <tr>\n",
       "      <th>Classe réalle</th>\n",
       "      <th></th>\n",
       "      <th></th>\n",
       "      <th></th>\n",
       "      <th></th>\n",
       "    </tr>\n",
       "  </thead>\n",
       "  <tbody>\n",
       "    <tr>\n",
       "      <th>0</th>\n",
       "      <td>36</td>\n",
       "      <td>0</td>\n",
       "      <td>0</td>\n",
       "      <td>0</td>\n",
       "    </tr>\n",
       "    <tr>\n",
       "      <th>1</th>\n",
       "      <td>0</td>\n",
       "      <td>40</td>\n",
       "      <td>0</td>\n",
       "      <td>0</td>\n",
       "    </tr>\n",
       "    <tr>\n",
       "      <th>2</th>\n",
       "      <td>0</td>\n",
       "      <td>0</td>\n",
       "      <td>42</td>\n",
       "      <td>0</td>\n",
       "    </tr>\n",
       "    <tr>\n",
       "      <th>3</th>\n",
       "      <td>0</td>\n",
       "      <td>0</td>\n",
       "      <td>0</td>\n",
       "      <td>36</td>\n",
       "    </tr>\n",
       "  </tbody>\n",
       "</table>\n",
       "</div>"
      ],
      "text/plain": [
       "Classe prédite   0   1   2   3\n",
       "Classe réalle                 \n",
       "0               36   0   0   0\n",
       "1                0  40   0   0\n",
       "2                0   0  42   0\n",
       "3                0   0   0  36"
      ]
     },
     "execution_count": 14,
     "metadata": {},
     "output_type": "execute_result"
    }
   ],
   "source": [
    "#Application du modèle\n",
    "rfB = RandomForestClassifier(**BParams)\n",
    "rfB.fit(X_train_scaled, y_train)\n",
    "y_pred = rfB.predict(X_test_scaled)\n",
    "\n",
    "confusion = pd.crosstab(y_test, y_pred, rownames=['Classe réalle'], colnames=['Classe prédite'])\n",
    "confusion"
   ]
  },
  {
   "cell_type": "code",
   "execution_count": 15,
   "metadata": {},
   "outputs": [
    {
     "data": {
      "text/plain": [
       "1.0"
      ]
     },
     "execution_count": 15,
     "metadata": {},
     "output_type": "execute_result"
    }
   ],
   "source": [
    "score = rfB.score(X_test_scaled, y_test)\n",
    "score"
   ]
  },
  {
   "cell_type": "markdown",
   "metadata": {},
   "source": [
    "- Random Forest : 1.0\n",
    "- SVM : 0.9805194805194806\n",
    "- KNN : 0.9285714285714286\n",
    "\n",
    "\n",
    "Le modèle Random Forest a obtenu un score de précision de 1.0, ce qui signifie qu'il a correctement prédit toutes les observations dans l'ensemble de test. Par conséquent, dans ce cas, le modèle Random Forest offre la meilleure précision."
   ]
  },
  {
   "cell_type": "markdown",
   "metadata": {},
   "source": [
    "On aurez pu entraîner un algorithme de régression à la place si l'objectif était de prédire une valeur continue plutôt qu'une classification des charges énergétiques.\n",
    "\n",
    "Cela dépend de la nature du problème et de l'objectif de l'analyse."
   ]
  }
 ],
 "metadata": {
  "kernelspec": {
   "display_name": "projetct",
   "language": "python",
   "name": "python3"
  },
  "language_info": {
   "codemirror_mode": {
    "name": "ipython",
    "version": 3
   },
   "file_extension": ".py",
   "mimetype": "text/x-python",
   "name": "python",
   "nbconvert_exporter": "python",
   "pygments_lexer": "ipython3",
   "version": "3.11.8"
  }
 },
 "nbformat": 4,
 "nbformat_minor": 2
}
